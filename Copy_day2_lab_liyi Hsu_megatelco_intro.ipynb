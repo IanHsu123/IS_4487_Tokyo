{
  "cells": [
    {
      "cell_type": "markdown",
      "metadata": {
        "id": "view-in-github",
        "colab_type": "text"
      },
      "source": [
        "<a href=\"https://colab.research.google.com/github/IanHsu123/IS_4487_Tokyo/blob/main/Copy_day2_lab_liyi%20Hsu_megatelco_intro.ipynb\" target=\"_parent\"><img src=\"https://colab.research.google.com/assets/colab-badge.svg\" alt=\"Open In Colab\"/></a>"
      ]
    },
    {
      "cell_type": "markdown",
      "metadata": {
        "id": "J-3Cql6h2-3C"
      },
      "source": [
        "# Day 2 Lab, IS 4487\n",
        "\n",
        "Outline\n",
        "\n",
        "- Loading installed packages\n",
        "- Inspect data\n",
        "- Clean data\n",
        "- Summarize data\n",
        "\n"
      ]
    },
    {
      "cell_type": "markdown",
      "source": [
        "# Notebook Instructions\n",
        "\n",
        "Again, remember to save a copy of the notebook in Drive so that you can save your changes.\n",
        "\n",
        "When you are done revising this notebook save your changes to GitHub and upload the URL for the file to Canvas for the assignment.  "
      ],
      "metadata": {
        "id": "Y1o5aC7lPhf8"
      }
    },
    {
      "cell_type": "markdown",
      "source": [
        "# Clean and Prepare the MegaTelCo Data"
      ],
      "metadata": {
        "id": "0cwAf7Ei-mnV"
      }
    },
    {
      "cell_type": "markdown",
      "metadata": {
        "id": "4NVoGsf-2-3E"
      },
      "source": [
        "##Load Libraries\n",
        "\n",
        "Remember, we will be using:\n",
        "- Pandas\n",
        "- Scikitlearn\n",
        "- Matplotlib\n"
      ]
    },
    {
      "cell_type": "code",
      "execution_count": null,
      "metadata": {
        "id": "2AeieAFI2-3E"
      },
      "outputs": [],
      "source": [
        "import pandas as pd\n",
        "import matplotlib as mpl\n",
        "import sklearn as sl"
      ]
    },
    {
      "cell_type": "markdown",
      "metadata": {
        "id": "vQq-Wem72-3F"
      },
      "source": [
        "## Load the Data\n",
        "\n",
        "In this case we will load  the MegaTelCo data directly from the URL in GitHub.\n",
        "\n",
        "\n"
      ]
    },
    {
      "cell_type": "code",
      "execution_count": null,
      "metadata": {
        "id": "YQR8g1w72-3F"
      },
      "outputs": [],
      "source": [
        "mtc = pd.read_csv(\"https://raw.githubusercontent.com/jefftwebb/is_4487_base/dd870389117d5b24eee7417d5378d80496555130/Labs/DataSets/megatelco_leave_survey.csv\")"
      ]
    },
    {
      "cell_type": "markdown",
      "source": [
        "Examine the data quickly for mistakes and to get a sense of the variables:"
      ],
      "metadata": {
        "id": "l9uateFgBS2f"
      }
    },
    {
      "cell_type": "code",
      "execution_count": null,
      "metadata": {
        "id": "ol0Axq442-3F"
      },
      "outputs": [],
      "source": [
        "#look at the top rows\n",
        "mtc.head(10)"
      ]
    },
    {
      "cell_type": "code",
      "execution_count": null,
      "metadata": {
        "id": "gVEB15-X2-3F"
      },
      "outputs": [],
      "source": [
        "#look at last rows\n",
        "mtc.tail(10)"
      ]
    },
    {
      "cell_type": "code",
      "execution_count": null,
      "metadata": {
        "id": "9neoVthK2-3F"
      },
      "outputs": [],
      "source": [
        "#get a summary of the dataset\n",
        "mtc.describe()"
      ]
    },
    {
      "cell_type": "code",
      "execution_count": null,
      "metadata": {
        "id": "jngQ8jLY2-3F"
      },
      "outputs": [],
      "source": [
        "#look at the datatypes\n",
        "mtc.info()"
      ]
    },
    {
      "cell_type": "markdown",
      "metadata": {
        "id": "_B6txQyk2-3F"
      },
      "source": [
        "\n",
        "Did you notice anything unusual about the amounts for `house`?  And what about `handset_price` and `income`? The data needs to be cleaned by selecting and filtering the data.\n",
        "\n"
      ]
    },
    {
      "cell_type": "markdown",
      "source": [
        "## Data Selection and Filtering in Pandas\n",
        "\n",
        "Data selection and filtering are essential techniques for working with Pandas DataFrames. They allow you to extract specific subsets of data based on certain conditions."
      ],
      "metadata": {
        "id": "l-Ab1Bk5a0XW"
      }
    },
    {
      "cell_type": "markdown",
      "source": [
        "## Selecting Specific Columns\n",
        "\n",
        "Square bracket subsetting, or indexing, is a way to access specific rows and columns of a DataFrame. When you use square brackets, `[]`, with a DataFrame  you can pass in:\n",
        "\n",
        "- A single column name to select a single column (returns a Series)\n",
        "- A list of column names to select multiple columns (returns a DataFrame)\n",
        "- A boolean mask to select rows based on a condition\n",
        "- A slice to select a range of rows\n",
        "\n",
        "For example, `mtc['college']` selects the `college` column as a Series, while `mtc[['college', 'income']]` selects the `college` and `income` columns as a DataFrame.\n",
        "\n"
      ],
      "metadata": {
        "id": "GLYvGiOVbbUi"
      }
    },
    {
      "cell_type": "code",
      "source": [
        "mtc['college']"
      ],
      "metadata": {
        "id": "vbVAT55ZcQvZ"
      },
      "execution_count": null,
      "outputs": []
    },
    {
      "cell_type": "code",
      "source": [
        "mtc[['college', 'income']]\n"
      ],
      "metadata": {
        "id": "gXwkX-6ycSrp"
      },
      "execution_count": null,
      "outputs": []
    },
    {
      "cell_type": "markdown",
      "source": [
        "## Your Turn: Selecting Columns\n",
        "\n",
        "1. Select the `overage` column from `mtc`.\n",
        "2. Select the `overage` *and* `leftover` columns from `mtc`."
      ],
      "metadata": {
        "id": "BAgJBkGrdPDX"
      }
    },
    {
      "cell_type": "code",
      "source": [
        "# Your code goes here\n"
      ],
      "metadata": {
        "id": "7PtSdU_ceS9P"
      },
      "execution_count": null,
      "outputs": []
    },
    {
      "cell_type": "code",
      "source": [
        "# Your code goes here\n"
      ],
      "metadata": {
        "id": "URc2qJKjeTju"
      },
      "execution_count": null,
      "outputs": []
    },
    {
      "cell_type": "markdown",
      "source": [
        "## Filtering Rows with Boolean Masks\n",
        "\n",
        "Boolean masking is a powerful technique for filtering rows based on certain conditions. You create a boolean mask by applying a logical condition to a DataFrame, which returns  True/False values. You can then use this mask to select the rows where the condition is True."
      ],
      "metadata": {
        "id": "DqpVcHTZetyi"
      }
    },
    {
      "cell_type": "code",
      "source": [
        "# Here is the mask:\n",
        "mtc[\"handset_price\"] > 1000"
      ],
      "metadata": {
        "id": "qsV6PMm6e7EP"
      },
      "execution_count": null,
      "outputs": []
    },
    {
      "cell_type": "code",
      "source": [
        "# Now, filter with the mask:\n",
        "mtc[mtc[\"handset_price\"] > 1000]"
      ],
      "metadata": {
        "id": "tJ2C9rVWfbiR"
      },
      "execution_count": null,
      "outputs": []
    },
    {
      "cell_type": "markdown",
      "source": [
        "Notice that the number of rows has gone from 5000 down to 1.  Of course, for cleaning we would want to *exclude* this row."
      ],
      "metadata": {
        "id": "aE19Gp2IgW53"
      }
    },
    {
      "cell_type": "markdown",
      "source": [
        "## Your Turn:  Data Cleaning\n",
        "\n",
        "1.  Use a boolean mask to filter out rows with mistakes using three logical conditions:\n",
        "  - remove the outlier in `handset_price`\n",
        "  - remove rows with negative values of `income` and `house`\n",
        "2. Save the cleaned data in a new DataFrame, `mtc_clean`.\n",
        "3. Summarize this new DataFrame to verify that your changes worked."
      ],
      "metadata": {
        "id": "Wie4ClICgA-h"
      }
    },
    {
      "cell_type": "code",
      "source": [
        "# Your code goes here\n"
      ],
      "metadata": {
        "id": "DlqEbMefiPMH"
      },
      "execution_count": null,
      "outputs": []
    },
    {
      "cell_type": "code",
      "source": [
        "# Your code goes here\n"
      ],
      "metadata": {
        "id": "eLPhwhQRiWE3"
      },
      "execution_count": null,
      "outputs": []
    },
    {
      "cell_type": "markdown",
      "metadata": {
        "id": "EXqBjPkk2-3G"
      },
      "source": [
        "# Summarize the Data\n",
        "\n",
        " Previously we used a built-in summary function, `info()`, to summarize the numeric columns in a dataset. However, we can write code to do more complicated data summaries.\n",
        "\n",
        " Question:  What is average value of `house` at the two levels of `leave`?  (We call this a conditional mean because it is *conditional* on the value of `leave`.)"
      ]
    },
    {
      "cell_type": "code",
      "execution_count": null,
      "metadata": {
        "id": "9D6qMO3N2-3G"
      },
      "outputs": [],
      "source": [
        "mtc_clean[['house','leave']].groupby('leave').mean().round(2)"
      ]
    },
    {
      "cell_type": "markdown",
      "source": [
        "Details:\n",
        "\n",
        "- `[[...]]`: Used to select specific columns (`house` and `leave`) from `mtc_clean`.\n",
        "- `groupby()`:  Groups the data by the `leave` column, creating separate groups for each unique value in `leave`.\n",
        "- `mean()`: Calculates the average of the `house` column for each group created by `groupby()`.\n",
        "- `round(2)`: Rounds the resulting mean values to 2 decimal places.\n"
      ],
      "metadata": {
        "id": "2u3fe0W2jCtn"
      }
    },
    {
      "cell_type": "markdown",
      "source": [
        "\n",
        " Conclusion?  Stayers have substantially more expensive homes."
      ],
      "metadata": {
        "id": "tgXnvV6BUmQT"
      }
    },
    {
      "cell_type": "markdown",
      "source": [
        "## Your Turn: Calculate Additional Stats\n",
        "\n",
        "Use `mtc_clean` to:\n",
        "\n",
        "1. Calculate means conditional on leave for `income` and `overage`.\n",
        "2. Calculate *median* income for leavers and stayers. (Hint:  use the Gemini AI tool to figure out what function will calculate a median.)\n",
        "3. Calculate the 25th and 75th percentiles for `income`.  (Again use Gemini for help.)"
      ],
      "metadata": {
        "id": "wKI39WkaUzLk"
      }
    },
    {
      "cell_type": "code",
      "source": [
        "# Your code goes here\n"
      ],
      "metadata": {
        "id": "1_HiD7COV1PG"
      },
      "execution_count": null,
      "outputs": []
    },
    {
      "cell_type": "code",
      "source": [
        "# Your code goes here\n"
      ],
      "metadata": {
        "id": "BPE_RXHQXDM1"
      },
      "execution_count": null,
      "outputs": []
    },
    {
      "cell_type": "code",
      "source": [
        "# Your code goes here\n"
      ],
      "metadata": {
        "id": "09IF8pL0XC5c"
      },
      "execution_count": null,
      "outputs": []
    },
    {
      "cell_type": "code",
      "source": [
        "# Your code goes here\n"
      ],
      "metadata": {
        "id": "1HMDU-s6m7W6"
      },
      "execution_count": null,
      "outputs": []
    },
    {
      "cell_type": "markdown",
      "source": [
        "# Functions\n",
        "\n",
        "- `pd.read_csv()`:  Reads a CSV file into a pandas DataFrame.\n",
        "- `.head()`: Returns the first n rows of a DataFrame or Series (default is 5).\n",
        "- `.tail()`: Returns the last n rows of a DataFrame or Series (default is 5).\n",
        "- `.describe()`: Generates descriptive statistics of a DataFrame or Series.\n",
        "- `.info()`: Prints a concise summary of a DataFrame, including column names, non-null counts, and data types.\n",
        "- `[]` and `[[ ]]` (indexing):  Used to select specific columns or rows from a DataFrame.\n",
        "- `.groupby()`: Groups DataFrame using a mapper or by a Series of columns.\n",
        "- `.mean()`:  Returns the mean of the values for the requested axis.\n",
        "- `.round()`:  Rounds a number or DataFrame to a specified number of decimal places."
      ],
      "metadata": {
        "id": "BXXN87hyoIf-"
      }
    }
  ],
  "metadata": {
    "language_info": {
      "name": "python"
    },
    "colab": {
      "provenance": [],
      "toc_visible": true,
      "include_colab_link": true
    },
    "kernelspec": {
      "name": "python3",
      "display_name": "Python 3"
    }
  },
  "nbformat": 4,
  "nbformat_minor": 0
}